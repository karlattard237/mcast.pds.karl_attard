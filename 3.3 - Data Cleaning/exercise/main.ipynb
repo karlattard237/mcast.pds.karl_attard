{
 "cells": [
  {
   "cell_type": "code",
   "execution_count": 3,
   "id": "7f0aa68d",
   "metadata": {},
   "outputs": [],
   "source": [
    "import myutils"
   ]
  },
  {
   "cell_type": "code",
   "execution_count": 4,
   "id": "c08f89c4",
   "metadata": {},
   "outputs": [],
   "source": [
    "users = myutils.get_users()"
   ]
  },
  {
   "cell_type": "code",
   "execution_count": 5,
   "id": "2e1aae5c",
   "metadata": {},
   "outputs": [],
   "source": [
    "fields = ['age', 'weight', 'gender', 'bloodGroup']\n",
    "stats = {}"
   ]
  },
  {
   "cell_type": "code",
   "execution_count": 6,
   "id": "0c5365ff",
   "metadata": {},
   "outputs": [],
   "source": [
    "for field in fields:\n",
    "    if type(users[0][field])==str:\n",
    "        stats[field] = myutils.get_string_stats(users, field)\n",
    "    else:\n",
    "        stats[field] = myutils.get_numeric_stats(users,field)"
   ]
  },
  {
   "cell_type": "code",
   "execution_count": 7,
   "id": "f419ab12",
   "metadata": {},
   "outputs": [
    {
     "data": {
      "text/plain": [
       "{'age': {'total': 977, 'count': 30, 'average': 32.56666666666667},\n",
       " 'weight': {'total': 2121.91, 'count': 30, 'average': 70.73033333333333},\n",
       " 'gender': {'female': 17, 'male': 13},\n",
       " 'bloodGroup': {'O-': 6,\n",
       "  'B+': 5,\n",
       "  'AB+': 4,\n",
       "  'AB-': 7,\n",
       "  'A-': 2,\n",
       "  'B-': 2,\n",
       "  'A+': 1,\n",
       "  'O+': 3}}"
      ]
     },
     "execution_count": 7,
     "metadata": {},
     "output_type": "execute_result"
    }
   ],
   "source": [
    "stats"
   ]
  },
  {
   "cell_type": "code",
   "execution_count": 8,
   "id": "cd331e9f",
   "metadata": {},
   "outputs": [
    {
     "data": {
      "text/plain": [
       "{'female': 17, 'male': 13}"
      ]
     },
     "execution_count": 8,
     "metadata": {},
     "output_type": "execute_result"
    }
   ],
   "source": [
    "myutils.get_string_stats(users,'gender')"
   ]
  }
 ],
 "metadata": {
  "kernelspec": {
   "display_name": "my-env",
   "language": "python",
   "name": "python3"
  },
  "language_info": {
   "codemirror_mode": {
    "name": "ipython",
    "version": 3
   },
   "file_extension": ".py",
   "mimetype": "text/x-python",
   "name": "python",
   "nbconvert_exporter": "python",
   "pygments_lexer": "ipython3",
   "version": "3.13.1"
  }
 },
 "nbformat": 4,
 "nbformat_minor": 5
}
