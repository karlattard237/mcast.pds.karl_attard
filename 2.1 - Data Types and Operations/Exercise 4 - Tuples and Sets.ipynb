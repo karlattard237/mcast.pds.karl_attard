{
 "cells": [
  {
   "cell_type": "code",
   "execution_count": null,
   "id": "3a04afca",
   "metadata": {},
   "outputs": [],
   "source": [
    "# Step 1: Create set with colours\n",
    "my_colours = {\"red\", \"green\", \"fuchsia\"}\n",
    "\n",
    "# Step 2: Create list with used colours\n",
    "used_colours = [\"red\", \"orange\", \"purple\"]\n",
    "\n",
    "# Step 3: Add each used colour to the set using iteration\n",
    "for colour in used_colours:\n",
    "    my_colours.add(colour)\n",
    "\n",
    "# Step 4: Print updated set\n",
    "print(\"Updated my_colours set:\", my_colours)\n",
    "\n",
    "# Step 5: Create another set with interesting colours\n",
    "interesting_colours = {\"fuchsia\", \"turqoise\"}\n",
    "\n",
    "# Step 6: Print common elements\n",
    "common = my_colours.intersection(interesting_colours)\n",
    "print(\"Common colours:\", common)\n",
    "\n",
    "# Step 7: Check if 'brown' is in my_colours\n",
    "print(\"Is 'brown' in my_colours?\", \"brown\" in my_colours)\n",
    "\n",
    "# Step 8: Create a frozenset from my_colours\n",
    "frozen_colours = frozenset(my_colours)\n",
    "\n",
    "# Step 9: Try to add 'brown' to the frozenset (this will cause an error)\n",
    "try:\n",
    "    frozen_colours.add(\"brown\")\n",
    "except AttributeError as e:\n",
    "    print(\"Error:\", e)"
   ]
  }
 ],
 "metadata": {
  "language_info": {
   "name": "python"
  }
 },
 "nbformat": 4,
 "nbformat_minor": 5
}
