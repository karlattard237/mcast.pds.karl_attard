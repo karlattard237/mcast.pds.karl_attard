{
 "cells": [
  {
   "cell_type": "code",
   "execution_count": null,
   "id": "45b056fd",
   "metadata": {},
   "outputs": [],
   "source": [
    "# Step 1: Create variables\n",
    "length = 56\n",
    "width = 34.56\n",
    "shape = \"rectangle\"\n",
    "\n",
    "# Step 2: Print their types\n",
    "print(type(length))   # <class 'int'>\n",
    "print(type(width))    # <class 'float'>\n",
    "print(type(shape))    # <class 'str'>\n",
    "\n",
    "# Step 3: Calculate area and store in variable\n",
    "area = length * width\n",
    "\n",
    "# Step 4: Calculate perimeter and store in variable\n",
    "perimeter = 2 * (length + width)\n",
    "\n",
    "# Step 5: Print area and perimeter\n",
    "print(\"Area:\", area)\n",
    "print(\"Perimeter:\", perimeter)\n",
    "\n",
    "# Step 6: Recalculate area with int-converted width\n",
    "area_int = length * int(width)\n",
    "\n",
    "# Step 7: Check if types of area and area_int are the same\n",
    "print(type(area) == type(area_int))  # False if one is float and the other is int\n",
    "\n",
    "# Step 8: Create message using join and variables\n",
    "msg_parts = [\"The area of the\", shape, \"is\", str(area_int) + \"cm2.\"]\n",
    "msg = \" \".join(msg_parts)\n",
    "\n",
    "# Step 9: Print msg\n",
    "print(msg)\n",
    "\n",
    "# Step 10: Extract unit \"cm\" from msg and print message\n",
    "unit = msg[msg.find(\"cm\"):msg.find(\"cm\")+2]\n",
    "print(\"The unit of measurement is\", unit)"
   ]
  }
 ],
 "metadata": {
  "language_info": {
   "name": "python"
  }
 },
 "nbformat": 4,
 "nbformat_minor": 5
}
