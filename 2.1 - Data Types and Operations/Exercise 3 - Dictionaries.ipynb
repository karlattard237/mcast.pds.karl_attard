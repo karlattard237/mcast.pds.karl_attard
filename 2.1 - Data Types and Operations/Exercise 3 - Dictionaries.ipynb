{
 "cells": [
  {
   "cell_type": "code",
   "execution_count": null,
   "id": "88b667fa",
   "metadata": {},
   "outputs": [],
   "source": [
    "# Step 1: Create the dictionary\n",
    "game = {\n",
    "    \"title\": \"Cyberpunk 2077\",\n",
    "    \"price\": 59.99,\n",
    "    \"platforms\": [\"PC\", \"PS5\", \"Xbox\"]\n",
    "}\n",
    "\n",
    "# Step 2: Display price reduced by 10%\n",
    "discounted_price = game[\"price\"] * 0.9\n",
    "print(\"Discounted Price:\", round(discounted_price, 2))\n",
    "\n",
    "# Step 3: Add rating\n",
    "game[\"rating\"] = 8.7\n",
    "\n",
    "# Step 4: Add year_released\n",
    "game[\"year_released\"] = 2020\n",
    "\n",
    "# Step 5: Remove platforms key\n",
    "game.pop(\"platforms\")\n",
    "\n",
    "# Step 6: Print dictionary to check\n",
    "print(\"Updated Game Dictionary:\", game)\n",
    "\n",
    "# Step 7: Display all keys\n",
    "print(\"Keys:\", list(game.keys()))\n",
    "\n",
    "# Step 8: Create list of values and print\n",
    "game_list = list(game.values())\n",
    "print(\"Game Values List:\", game_list)\n",
    "\n",
    "# Step 9: Create another dictionary with 2 extra fields\n",
    "game_additional = {\n",
    "    \"publisher\": \"CD Projekt Red\",\n",
    "    \"dlc_available\": True\n",
    "}\n",
    "\n",
    "# Step 10: Merge game_additional into game\n",
    "game.update(game_additional)\n",
    "\n",
    "# Final output\n",
    "print(\"Final Merged Game Dictionary:\", game)"
   ]
  }
 ],
 "metadata": {
  "language_info": {
   "name": "python"
  }
 },
 "nbformat": 4,
 "nbformat_minor": 5
}
