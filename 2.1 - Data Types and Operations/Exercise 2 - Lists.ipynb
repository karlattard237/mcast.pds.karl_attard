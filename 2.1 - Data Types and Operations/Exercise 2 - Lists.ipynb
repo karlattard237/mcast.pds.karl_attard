{
 "cells": [
  {
   "cell_type": "code",
   "execution_count": null,
   "id": "4f53178e",
   "metadata": {},
   "outputs": [],
   "source": [
    "# Step 1: Create list with name, age, and hobbies\n",
    "details = [\"John Doe\", 24, [\"reading\", \"cycling\", \"gaming\"]]\n",
    "\n",
    "# Step 2: Display age from list\n",
    "print(\"My age is\", details[1])\n",
    "\n",
    "# Step 3: Display last hobby\n",
    "print(\"Last hobby is:\", details[2][-1])\n",
    "\n",
    "# Step 4: Add email to list\n",
    "details.append(\"john.doe@example.com\")\n",
    "\n",
    "# Step 5: Print list\n",
    "print(\"Updated details:\", details)\n",
    "\n",
    "# Step 6: Add another hobby to the list of hobbies\n",
    "details[2].append(\"photography\")\n",
    "\n",
    "# Step 7: Print list again\n",
    "print(\"Details with extra hobby:\", details)\n",
    "\n",
    "# Step 8: Create empty list and copy elements\n",
    "details_copy = []\n",
    "for item in details:\n",
    "    details_copy.append(item)\n",
    "\n",
    "# Step 9: Print the copied list\n",
    "print(\"Copied list:\", details_copy)\n",
    "\n",
    "# Step 10: Remove email from details_copy\n",
    "details_copy.remove(\"john.doe@example.com\")\n",
    "\n",
    "# Step 11: Count hobbies (not hard-coded)\n",
    "print(\"I have\", len(details_copy[2]), \"hobbies\")\n",
    "\n",
    "# Step 12: Sort details_copy\n",
    "# Sorting will fail unless all elements are of the same type.\n",
    "# So only sort the hobbies list inside details_copy\n",
    "details_copy[2].sort()\n",
    "\n",
    "print(\"Sorted hobbies in details_copy:\", details_copy[2])"
   ]
  }
 ],
 "metadata": {
  "language_info": {
   "name": "python"
  }
 },
 "nbformat": 4,
 "nbformat_minor": 5
}
